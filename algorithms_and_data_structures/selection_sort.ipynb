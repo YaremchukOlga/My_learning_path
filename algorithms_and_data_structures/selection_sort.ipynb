{
 "cells": [
  {
   "cell_type": "markdown",
   "id": "a80efd68",
   "metadata": {},
   "source": [
    "# 2. Сортировка выбором"
   ]
  },
  {
   "cell_type": "code",
   "execution_count": 11,
   "id": "c0f3b616",
   "metadata": {},
   "outputs": [],
   "source": [
    "def find_smallest(arr):\n",
    "    smallest = arr[0]\n",
    "    smallest_index = 0\n",
    "    for i in range(1, len(arr)):\n",
    "        if arr[i] < smallest:\n",
    "            smallest_index = i\n",
    "            smallest = arr[i]\n",
    "    return smallest_index\n",
    "    \n",
    "    "
   ]
  },
  {
   "cell_type": "code",
   "execution_count": 12,
   "id": "582ba277",
   "metadata": {},
   "outputs": [],
   "source": [
    "def Selection_sort(arr):\n",
    "    sorted_arr = []\n",
    "    for i in range(len(arr)):\n",
    "        smallest_index = find_smallest(arr)\n",
    "        sorted_arr.append(arr.pop(smallest_index))\n",
    "    return sorted_arr"
   ]
  },
  {
   "cell_type": "code",
   "execution_count": 13,
   "id": "002f0a73",
   "metadata": {},
   "outputs": [
    {
     "data": {
      "text/plain": [
       "[2, 3, 7, 11, 12, 43, 55, 76]"
      ]
     },
     "execution_count": 13,
     "metadata": {},
     "output_type": "execute_result"
    }
   ],
   "source": [
    "Selection_sort([2,55,43,3,12,76,7,11])"
   ]
  }
 ],
 "metadata": {
  "kernelspec": {
   "display_name": "Python 3",
   "language": "python",
   "name": "python3"
  },
  "language_info": {
   "codemirror_mode": {
    "name": "ipython",
    "version": 3
   },
   "file_extension": ".py",
   "mimetype": "text/x-python",
   "name": "python",
   "nbconvert_exporter": "python",
   "pygments_lexer": "ipython3",
   "version": "3.8.8"
  }
 },
 "nbformat": 4,
 "nbformat_minor": 5
}
