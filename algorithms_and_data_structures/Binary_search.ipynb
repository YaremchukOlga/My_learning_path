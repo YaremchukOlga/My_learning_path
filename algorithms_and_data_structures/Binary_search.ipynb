{
 "cells": [
  {
   "cell_type": "markdown",
   "id": "3a48bcb1",
   "metadata": {},
   "source": [
    "# Бинарный поиск, реализация на Python(чике)"
   ]
  },
  {
   "cell_type": "code",
   "execution_count": 22,
   "id": "643bd69f",
   "metadata": {},
   "outputs": [],
   "source": [
    "def binary_search(list, item):\n",
    "    #Boundary values of the index\n",
    "    low = 0\n",
    "    high = len(list) - 1\n",
    "\n",
    "    # While you haven't narrowed it down to one element ...\n",
    "    while low <= high:\n",
    "      # ... check the middle element\n",
    "        mid = (low + high) // 2\n",
    "        guess = list[mid]\n",
    "      # Found the item.\n",
    "        if guess == item:\n",
    "            return mid\n",
    "      # The guess was too high.\n",
    "        if guess > item:\n",
    "            high = mid - 1\n",
    "      # The guess was too low.\n",
    "        else:\n",
    "            low = mid + 1\n",
    "\n",
    "    # Item doesn't exist\n",
    "    return None"
   ]
  },
  {
   "cell_type": "code",
   "execution_count": 23,
   "id": "d79e56bc",
   "metadata": {},
   "outputs": [
    {
     "data": {
      "text/plain": [
       "2"
      ]
     },
     "execution_count": 23,
     "metadata": {},
     "output_type": "execute_result"
    }
   ],
   "source": [
    "binary_search([1,2,3,5,22,56], 3)"
   ]
  }
 ],
 "metadata": {
  "kernelspec": {
   "display_name": "Python 3",
   "language": "python",
   "name": "python3"
  },
  "language_info": {
   "codemirror_mode": {
    "name": "ipython",
    "version": 3
   },
   "file_extension": ".py",
   "mimetype": "text/x-python",
   "name": "python",
   "nbconvert_exporter": "python",
   "pygments_lexer": "ipython3",
   "version": "3.8.8"
  }
 },
 "nbformat": 4,
 "nbformat_minor": 5
}
